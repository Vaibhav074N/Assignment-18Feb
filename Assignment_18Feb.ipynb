{
  "nbformat": 4,
  "nbformat_minor": 0,
  "metadata": {
    "colab": {
      "provenance": [],
      "authorship_tag": "ABX9TyOTidcTn4aQcHbffkQiP7dv",
      "include_colab_link": true
    },
    "kernelspec": {
      "name": "python3",
      "display_name": "Python 3"
    },
    "language_info": {
      "name": "python"
    }
  },
  "cells": [
    {
      "cell_type": "markdown",
      "metadata": {
        "id": "view-in-github",
        "colab_type": "text"
      },
      "source": [
        "<a href=\"https://colab.research.google.com/github/Vaibhav074N/Assignment-18Feb/blob/main/Assignment_18Feb.ipynb\" target=\"_parent\"><img src=\"https://colab.research.google.com/assets/colab-badge.svg\" alt=\"Open In Colab\"/></a>"
      ]
    },
    {
      "cell_type": "markdown",
      "source": [
        "###Q1.What is an API? give an example, Where an API is used in real life.\n",
        "###Ans:API stands for \"Application Programming Interface.\" It is a set of protocols, routines, and tools for building software applications. APIs allow different software applications to communicate with each other and exchange data, regardless of the programming language or platform they are built on.\n",
        "###Twitter API, which allows developers to access Twitter's data and functionality, such as tweeting, searching, and following. This API is used by many third-party Twitter clients, as well as by businesses and organizations for social media monitoring and analysis.\n",
        "###Overall, APIs are used in many different industries and applications, from e-commerce and finance to healthcare and transportation, to enable seamless integration and communication between software systems.\n"
      ],
      "metadata": {
        "id": "GN82VB1YW3Lm"
      }
    },
    {
      "cell_type": "code",
      "source": [],
      "metadata": {
        "id": "DBYrV60WZ0mZ"
      },
      "execution_count": null,
      "outputs": []
    },
    {
      "cell_type": "markdown",
      "source": [
        "###Q2. Advantages and disadavantages of using API.\n",
        "###Ans: \n",
        "###Advantages of using API:\n",
        "\n",
        "###Improved Efficiency: API allows developers to quickly access and integrate features and functionalities from other software systems, which can save time and resources, and improve overall software efficiency.\n",
        "###Flexibility: APIs are flexible and can be customized to suit specific application needs, providing a high degree of flexibility and adaptability.\n",
        "###Standardization: APIs often provide a standardized way of accessing and using data, allowing developers to create applications that work across multiple platforms and systems.\n",
        "\n",
        "###Disadvantages of using API:\n",
        "\n",
        "###Security Risks: APIs can be vulnerable to security risks, such as unauthorized access, injection attacks, and other forms of exploitation.\n",
        "###Dependency: APIs create dependencies on third-party systems and services, which can lead to reliability and availability issues if those systems experience downtime or other disruptions.\n",
        "###Complexity: API integration can be complex and time-consuming, especially for non-technical users, which can add additional costs and challenges to software development projects."
      ],
      "metadata": {
        "id": "BaEw7bt2Ylup"
      }
    },
    {
      "cell_type": "code",
      "execution_count": null,
      "metadata": {
        "id": "7mncuiFrWwem"
      },
      "outputs": [],
      "source": []
    },
    {
      "cell_type": "markdown",
      "source": [
        "###Q3.What is web API? DIfferentiate between API and Web API.\n",
        "###Ans:A Web API, or \"web service,\" is a type of API that uses HTTP protocols and the internet to enable communication and data exchange between different software systems over the web. Web APIs can be accessed using web-based programming languages.\n",
        "###The main difference between an API and a Web API is that an API is a general term that refers to any set of protocols and tools used for building software applications, whereas a Web API is specifically designed for use on the web and is accessible using web-based programming languages.\n",
        "### Web API is a specific type of API that is optimized for web-based communication and is accessible through HTTP requests and responses. Other types of APIs may be designed for use in different contexts, such as desktop applications, mobile devices, or embedded systems, and may use different protocols and tools to facilitate communication and data exchange.\n",
        "###Overall, the term \"Web API\" is used to specifically refer to APIs that are used over the internet, while \"API\" is a more general term that can refer to APIs used in a variety of contexts and platforms."
      ],
      "metadata": {
        "id": "LQfjsFP2Z2gP"
      }
    },
    {
      "cell_type": "code",
      "source": [],
      "metadata": {
        "id": "ypjg3MUXbYTO"
      },
      "execution_count": null,
      "outputs": []
    },
    {
      "cell_type": "markdown",
      "source": [
        "###Q4.Explain REST and SOAP Architecture.Mention shortcomings of SOAP.\n",
        "###Ans:REST stand for (Representational State Transfer) and SOAP stand for (Simple Object Access Protocol) are two popular architectural styles used for building web services and APIs.\n",
        "###REST Architecture:\n",
        "###REST is a style of architecture that emphasizes scalability, simplicity, and ease of use. RESTful APIs use HTTP requests to perform operations, such as GET, POST, PUT, and DELETE, on resources identified by URIs. \n",
        "###SOAP Architecture:\n",
        "###SOAP is an XML-based messaging protocol that is used for exchanging structured information between web services. SOAP uses a set of well-defined rules for building and formatting messages, including a formal XML schema, and a specific envelope structure. SOAP can use any transport protocol, including HTTP, SMTP, and TCP, and can support a wide range of application-level protocols, such as security and transaction management.\n",
        "###Shortcomings of SOAP:\n",
        "###Complexity: SOAP can be complex and verbose, which can make it difficult to use and implement, especially for developers who are not familiar with XML-based messaging protocols.\n",
        "###Performance: SOAP can be slower and less efficient than other architectural styles, such as REST, due to the overhead involved in building and parsing XML-based messages.\n",
        "###Limited browser support: SOAP is not natively supported by web browsers, which can make it difficult to use in web applications and limit its accessibility for end-users.\n",
        "###Strict contract requirements: SOAP requires strict contracts between clients and servers, which can make it difficult to make changes to the API without breaking existing clients."
      ],
      "metadata": {
        "id": "muXTRBVybffV"
      }
    },
    {
      "cell_type": "code",
      "source": [],
      "metadata": {
        "id": "AaireFObdJV3"
      },
      "execution_count": null,
      "outputs": []
    },
    {
      "cell_type": "markdown",
      "source": [
        "###Q5.Differentiate between REST and SOAP.\n",
        "###Ans:\n",
        "###REST:\n",
        "###(1)RESTful APIs use HTTP requests to perform operations, such as GET, POST, PUT, and DELETE, on resources identified by URls.\n",
        "###(2)RESTful APIs generally use lightweight data formats such as JSON or XML for data exchange.\n",
        "###(3)RESTful APIs are more flexible than SOAP. They do not require a strict contract between client and server, allowing the server to evolve and change over time without affecting clients. \n",
        "###(4)RESTful APIs are generally considered faster and more efficient than SOAP because they use simple HTTP requests, which have less overhead compared to the complex XML-based messages used by SOAP.\n",
        "###(5)RESTful APIs can be easily cached, as they use standard HTTP methods and headers. \n",
        "###SOAP:\n",
        "###(1)SOAP, on the other hand, uses a more rigid XML-based messaging protocol for exchanging structured information between web services.\n",
        "###(2)SOAP, on the other hand, uses a more complex XML format for data exchange.\n",
        "###(3)SOAP, however, requires a strict contract between the client and server, making it more rigid and harder to modify.\n",
        "###(4)SOAP, on the other hand, is less cache-friendly, as it uses more complex XML-based messages.\n",
        "###(5)SOAP,is not natively supported by web browsers, which can limit its accessibility for end-users.\n",
        "###Overall, RESTful APIs are simpler, faster, and more flexible than SOAP, which can make them a better choice for many web service and API development scenarios."
      ],
      "metadata": {
        "id": "HIl5JHF0dLfW"
      }
    },
    {
      "cell_type": "code",
      "source": [],
      "metadata": {
        "id": "nqi0YUoce-g_"
      },
      "execution_count": null,
      "outputs": []
    }
  ]
}